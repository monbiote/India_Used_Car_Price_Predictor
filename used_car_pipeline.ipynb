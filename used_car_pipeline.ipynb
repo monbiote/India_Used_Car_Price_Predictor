{
 "cells": [
  {
   "cell_type": "markdown",
   "metadata": {},
   "source": [
    "# Used Car Machine Learning Pipeline "
   ]
  },
  {
   "cell_type": "code",
   "execution_count": 1,
   "metadata": {},
   "outputs": [],
   "source": [
    "import used_car_prediction_lib.pipeline.UsedCar_MLPipeline as uc_MLpl"
   ]
  },
  {
   "cell_type": "code",
   "execution_count": 2,
   "metadata": {},
   "outputs": [],
   "source": [
    "us_ml_pipeline = uc_MLpl.UsedCar_MLPipeline('car_price.csv')"
   ]
  },
  {
   "cell_type": "code",
   "execution_count": 3,
   "metadata": {},
   "outputs": [
    {
     "name": "stdout",
     "output_type": "stream",
     "text": [
      "Linear Regression MSE: 442497139407.946 and RMSE:442497139407.946  with an R2 of 0.641\n",
      "Lasso Model with Cross Validation MSE: 442518703006.900 and RMSE:665220.793 with an R2 of 0.641 (alpha=31.257)\n",
      "Ridge Model with Cross Validation MSE: 442931371433.806 and RMSE:665530.894 with an R2 of 0.641 (alpha=0.521))\n",
      "This process might take a few minutes.\n",
      "Fitting 10 folds for each of 32 candidates, totalling 320 fits\n",
      "Gradient Boosting Model with Cross Validation MSE: 246922848172.350 and RMSE:496913.321 with an R2 of 0.800 (hyperparamaters: {'learning_rate': 0.1, 'max_depth': 6, 'min_samples_leaf': 1, 'min_samples_split': 10, 'n_estimators': 100, 'subsample': 0.8}))\n",
      "Predictions from the best model 'Gradient Boosting' saved to '../Gradient Boosting_predictions.csv'\n",
      "The best model is: \u001b[1m\u001b[3mGradient Boosting with an MSE of 246922848172.350, RMSE of 496913.321 and an R2 of 0.800\u001b[0m\n"
     ]
    }
   ],
   "source": [
    "us_ml_pipeline.run_pipeline(test_size=0.3)"
   ]
  }
 ],
 "metadata": {
  "kernelspec": {
   "display_name": ".venv",
   "language": "python",
   "name": "python3"
  },
  "language_info": {
   "codemirror_mode": {
    "name": "ipython",
    "version": 3
   },
   "file_extension": ".py",
   "mimetype": "text/x-python",
   "name": "python",
   "nbconvert_exporter": "python",
   "pygments_lexer": "ipython3",
   "version": "3.12.0"
  }
 },
 "nbformat": 4,
 "nbformat_minor": 2
}

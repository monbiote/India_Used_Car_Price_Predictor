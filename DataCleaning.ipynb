{
 "cells": [
  {
   "cell_type": "code",
   "execution_count": 1,
   "metadata": {},
   "outputs": [],
   "source": [
    "import pandas as pd\n",
    "import numpy as np\n",
    "from sklearn.model_selection import train_test_split\n",
    "from sklearn.preprocessing import StandardScaler\n",
    "from sklearn.linear_model import LinearRegression\n",
    "from sklearn.metrics import mean_squared_error\n"
   ]
  },
  {
   "cell_type": "code",
   "execution_count": 2,
   "metadata": {},
   "outputs": [
    {
     "name": "stdout",
     "output_type": "stream",
     "text": [
      "   Unnamed: 0                                car_name car_prices_in_rupee  \\\n",
      "0           0  Jeep Compass 2.0 Longitude Option BSIV          10.03 Lakh   \n",
      "1           1            Renault Duster RXZ Turbo CVT          12.83 Lakh   \n",
      "2           2                      Toyota Camry 2.5 G          16.40 Lakh   \n",
      "3           3                       Honda Jazz VX CVT           7.77 Lakh   \n",
      "4           4        Volkswagen Polo 1.2 MPI Highline           5.15 Lakh   \n",
      "\n",
      "   kms_driven fuel_type transmission  ownership  manufacture   engine    Seats  \n",
      "0  86,226 kms    Diesel       Manual  1st Owner         2017  1956 cc  5 Seats  \n",
      "1  13,248 kms    Petrol    Automatic  1st Owner         2021  1330 cc  5 Seats  \n",
      "2  60,343 kms    Petrol    Automatic  1st Owner         2016  2494 cc  5 Seats  \n",
      "3  26,696 kms    Petrol    Automatic  1st Owner         2018  1199 cc  5 Seats  \n",
      "4  69,414 kms    Petrol       Manual  1st Owner         2016  1199 cc  5 Seats  \n",
      "<class 'pandas.core.frame.DataFrame'>\n",
      "RangeIndex: 5512 entries, 0 to 5511\n",
      "Data columns (total 10 columns):\n",
      " #   Column               Non-Null Count  Dtype \n",
      "---  ------               --------------  ----- \n",
      " 0   Unnamed: 0           5512 non-null   int64 \n",
      " 1   car_name             5512 non-null   object\n",
      " 2   car_prices_in_rupee  5512 non-null   object\n",
      " 3   kms_driven           5512 non-null   object\n",
      " 4   fuel_type            5512 non-null   object\n",
      " 5   transmission         5512 non-null   object\n",
      " 6   ownership            5512 non-null   object\n",
      " 7   manufacture          5512 non-null   int64 \n",
      " 8   engine               5512 non-null   object\n",
      " 9   Seats                5512 non-null   object\n",
      "dtypes: int64(2), object(8)\n",
      "memory usage: 430.8+ KB\n",
      "None\n"
     ]
    }
   ],
   "source": [
    "df = pd.read_csv('car_price.csv')\n",
    "print(df.head())\n",
    "print(df.info())"
   ]
  },
  {
   "cell_type": "code",
   "execution_count": 3,
   "metadata": {},
   "outputs": [
    {
     "name": "stdout",
     "output_type": "stream",
     "text": [
      "Missing Values:\n",
      "Unnamed: 0             0\n",
      "car_name               0\n",
      "car_prices_in_rupee    0\n",
      "kms_driven             0\n",
      "fuel_type              0\n",
      "transmission           0\n",
      "ownership              0\n",
      "manufacture            0\n",
      "engine                 0\n",
      "Seats                  0\n",
      "dtype: int64\n"
     ]
    }
   ],
   "source": [
    "missing_values = df.isnull().sum()\n",
    "print(\"Missing Values:\")\n",
    "print(missing_values)"
   ]
  },
  {
   "cell_type": "code",
   "execution_count": 5,
   "metadata": {},
   "outputs": [
    {
     "name": "stdout",
     "output_type": "stream",
     "text": [
      "   Unnamed: 0                                car_name  car_prices_in_rupee  \\\n",
      "0           0  Jeep Compass 2.0 Longitude Option BSIV            1003000.0   \n",
      "1           1            Renault Duster RXZ Turbo CVT            1283000.0   \n",
      "2           2                      Toyota Camry 2.5 G            1640000.0   \n",
      "3           3                       Honda Jazz VX CVT             777000.0   \n",
      "4           4        Volkswagen Polo 1.2 MPI Highline             515000.0   \n",
      "\n",
      "   kms_driven fuel_type transmission  ownership  manufacture   engine    Seats  \n",
      "0  86,226 kms    Diesel       Manual  1st Owner         2017  1956 cc  5 Seats  \n",
      "1  13,248 kms    Petrol    Automatic  1st Owner         2021  1330 cc  5 Seats  \n",
      "2  60,343 kms    Petrol    Automatic  1st Owner         2016  2494 cc  5 Seats  \n",
      "3  26,696 kms    Petrol    Automatic  1st Owner         2018  1199 cc  5 Seats  \n",
      "4  69,414 kms    Petrol       Manual  1st Owner         2016  1199 cc  5 Seats  \n"
     ]
    }
   ],
   "source": [
    "def convert_price(price_str):\n",
    "    try:\n",
    "        num_value = float(price_str.split(\" \")[0])\n",
    "\n",
    "        return num_value*100000\n",
    "    except ValueError:\n",
    "        return None\n",
    "df['car_prices_in_rupee'] = df['car_prices_in_rupee'].apply(convert_price)\n",
    "print(df.head())\n",
    "        "
   ]
  },
  {
   "cell_type": "code",
   "execution_count": 7,
   "metadata": {},
   "outputs": [
    {
     "name": "stdout",
     "output_type": "stream",
     "text": [
      "Unique Fuel Types: ['Diesel' 'Petrol' 'Cng' 'Electric' 'Lpg']\n",
      "Unique Transmissions: ['Manual' 'Automatic']\n"
     ]
    }
   ],
   "source": [
    "unique_fuel_types = df['fuel_type'].unique()\n",
    "print(\"Unique Fuel Types:\", unique_fuel_types)\n",
    "\n",
    "unique_transmissions = df['transmission'].unique()\n",
    "print(\"Unique Transmissions:\", unique_transmissions)"
   ]
  },
  {
   "cell_type": "code",
   "execution_count": 10,
   "metadata": {},
   "outputs": [
    {
     "name": "stdout",
     "output_type": "stream",
     "text": [
      "   fuel_type_Diesel  fuel_type_Electric  fuel_type_Lpg  fuel_type_Petrol  \\\n",
      "0              True               False          False             False   \n",
      "1             False               False          False              True   \n",
      "2             False               False          False             False   \n",
      "3             False                True          False             False   \n",
      "4             False               False           True             False   \n",
      "\n",
      "   transmission_Manual  \n",
      "0                 True  \n",
      "1                False  \n",
      "2                 True  \n",
      "3                False  \n",
      "4                 True  \n"
     ]
    }
   ],
   "source": [
    "def one_hot_encode(df, columns_to_encode):\n",
    "    df_encoded = pd.get_dummies(df, columns=columns_to_encode, drop_first=True)\n",
    "    return df_encoded \n",
    "data = {'fuel_type': ['Diesel', 'Petrol', 'Cng', 'Electric', 'Lpg'],\n",
    "        'transmission': ['Manual', 'Automatic', 'Manual', 'Automatic', 'Manual']}\n",
    "df = pd.DataFrame(data)\n",
    "columns_to_encode = ['fuel_type', 'transmission'] \n",
    "\n",
    "# Apply the one_hot_encode function\n",
    "df_encoded = one_hot_encode(df, columns_to_encode)\n",
    "\n",
    "# Display the DataFrame after one-hot encoding\n",
    "print(df_encoded) "
   ]
  }
 ],
 "metadata": {
  "kernelspec": {
   "display_name": "Python 3",
   "language": "python",
   "name": "python3"
  },
  "language_info": {
   "codemirror_mode": {
    "name": "ipython",
    "version": 3
   },
   "file_extension": ".py",
   "mimetype": "text/x-python",
   "name": "python",
   "nbconvert_exporter": "python",
   "pygments_lexer": "ipython3",
   "version": "3.12.0"
  }
 },
 "nbformat": 4,
 "nbformat_minor": 2
}

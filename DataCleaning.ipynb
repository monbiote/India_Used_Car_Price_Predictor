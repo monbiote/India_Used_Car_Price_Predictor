{
 "cells": [
  {
   "cell_type": "markdown",
   "metadata": {},
   "source": [
    "Import Packages\n"
   ]
  },
  {
   "cell_type": "code",
   "execution_count": 308,
   "metadata": {},
   "outputs": [],
   "source": [
    "import pandas as pd\n",
    "import numpy as np\n"
   ]
  },
  {
   "cell_type": "markdown",
   "metadata": {},
   "source": [
    "Transform into Pandas Dataframe"
   ]
  },
  {
   "cell_type": "code",
   "execution_count": 309,
   "metadata": {},
   "outputs": [
    {
     "name": "stdout",
     "output_type": "stream",
     "text": [
      "   Unnamed: 0                                car_name car_prices_in_rupee  \\\n",
      "0           0  Jeep Compass 2.0 Longitude Option BSIV          10.03 Lakh   \n",
      "1           1            Renault Duster RXZ Turbo CVT          12.83 Lakh   \n",
      "2           2                      Toyota Camry 2.5 G          16.40 Lakh   \n",
      "3           3                       Honda Jazz VX CVT           7.77 Lakh   \n",
      "4           4        Volkswagen Polo 1.2 MPI Highline           5.15 Lakh   \n",
      "\n",
      "   kms_driven fuel_type transmission  ownership  manufacture   engine    Seats  \n",
      "0  86,226 kms    Diesel       Manual  1st Owner         2017  1956 cc  5 Seats  \n",
      "1  13,248 kms    Petrol    Automatic  1st Owner         2021  1330 cc  5 Seats  \n",
      "2  60,343 kms    Petrol    Automatic  1st Owner         2016  2494 cc  5 Seats  \n",
      "3  26,696 kms    Petrol    Automatic  1st Owner         2018  1199 cc  5 Seats  \n",
      "4  69,414 kms    Petrol       Manual  1st Owner         2016  1199 cc  5 Seats  \n",
      "<class 'pandas.core.frame.DataFrame'>\n",
      "RangeIndex: 5512 entries, 0 to 5511\n",
      "Data columns (total 10 columns):\n",
      " #   Column               Non-Null Count  Dtype \n",
      "---  ------               --------------  ----- \n",
      " 0   Unnamed: 0           5512 non-null   int64 \n",
      " 1   car_name             5512 non-null   object\n",
      " 2   car_prices_in_rupee  5512 non-null   object\n",
      " 3   kms_driven           5512 non-null   object\n",
      " 4   fuel_type            5512 non-null   object\n",
      " 5   transmission         5512 non-null   object\n",
      " 6   ownership            5512 non-null   object\n",
      " 7   manufacture          5512 non-null   int64 \n",
      " 8   engine               5512 non-null   object\n",
      " 9   Seats                5512 non-null   object\n",
      "dtypes: int64(2), object(8)\n",
      "memory usage: 430.8+ KB\n",
      "None\n"
     ]
    }
   ],
   "source": [
    "df = pd.read_csv('car_price.csv')\n",
    "print(df.head())\n",
    "print(df.info())"
   ]
  },
  {
   "cell_type": "code",
   "execution_count": 310,
   "metadata": {},
   "outputs": [
    {
     "name": "stdout",
     "output_type": "stream",
     "text": [
      "                                 car_name car_prices_in_rupee  kms_driven  \\\n",
      "0  Jeep Compass 2.0 Longitude Option BSIV          10.03 Lakh  86,226 kms   \n",
      "1            Renault Duster RXZ Turbo CVT          12.83 Lakh  13,248 kms   \n",
      "2                      Toyota Camry 2.5 G          16.40 Lakh  60,343 kms   \n",
      "3                       Honda Jazz VX CVT           7.77 Lakh  26,696 kms   \n",
      "4        Volkswagen Polo 1.2 MPI Highline           5.15 Lakh  69,414 kms   \n",
      "\n",
      "  fuel_type transmission  ownership  manufacture   engine    Seats  \n",
      "0    Diesel       Manual  1st Owner         2017  1956 cc  5 Seats  \n",
      "1    Petrol    Automatic  1st Owner         2021  1330 cc  5 Seats  \n",
      "2    Petrol    Automatic  1st Owner         2016  2494 cc  5 Seats  \n",
      "3    Petrol    Automatic  1st Owner         2018  1199 cc  5 Seats  \n",
      "4    Petrol       Manual  1st Owner         2016  1199 cc  5 Seats  \n"
     ]
    }
   ],
   "source": [
    "df = df.drop(['Unnamed: 0'], axis=1)    # drop the unamed column\n",
    "print(df.head())"
   ]
  },
  {
   "cell_type": "markdown",
   "metadata": {},
   "source": [
    "Detect Missing Values"
   ]
  },
  {
   "cell_type": "code",
   "execution_count": 311,
   "metadata": {},
   "outputs": [
    {
     "name": "stdout",
     "output_type": "stream",
     "text": [
      "Missing Values:\n",
      "car_name               0\n",
      "car_prices_in_rupee    0\n",
      "kms_driven             0\n",
      "fuel_type              0\n",
      "transmission           0\n",
      "ownership              0\n",
      "manufacture            0\n",
      "engine                 0\n",
      "Seats                  0\n",
      "dtype: int64\n"
     ]
    }
   ],
   "source": [
    "missing_values = df.isnull().sum()\n",
    "print(\"Missing Values:\")\n",
    "print(missing_values)"
   ]
  },
  {
   "cell_type": "markdown",
   "metadata": {},
   "source": [
    "Convert Car Prices to a Nominal Amount"
   ]
  },
  {
   "cell_type": "code",
   "execution_count": 312,
   "metadata": {},
   "outputs": [
    {
     "name": "stdout",
     "output_type": "stream",
     "text": [
      "                                 car_name  car_prices_in_rupee  kms_driven  \\\n",
      "0  Jeep Compass 2.0 Longitude Option BSIV            1003000.0  86,226 kms   \n",
      "1            Renault Duster RXZ Turbo CVT            1283000.0  13,248 kms   \n",
      "2                      Toyota Camry 2.5 G            1640000.0  60,343 kms   \n",
      "3                       Honda Jazz VX CVT             777000.0  26,696 kms   \n",
      "4        Volkswagen Polo 1.2 MPI Highline             515000.0  69,414 kms   \n",
      "\n",
      "  fuel_type transmission  ownership  manufacture   engine    Seats  \n",
      "0    Diesel       Manual  1st Owner         2017  1956 cc  5 Seats  \n",
      "1    Petrol    Automatic  1st Owner         2021  1330 cc  5 Seats  \n",
      "2    Petrol    Automatic  1st Owner         2016  2494 cc  5 Seats  \n",
      "3    Petrol    Automatic  1st Owner         2018  1199 cc  5 Seats  \n",
      "4    Petrol       Manual  1st Owner         2016  1199 cc  5 Seats  \n"
     ]
    }
   ],
   "source": [
    "def convert_price(price_str):\n",
    "    try:\n",
    "        num_value = float(price_str.split(\" \")[0])\n",
    "\n",
    "        return num_value*100000\n",
    "    except ValueError:\n",
    "        return None\n",
    "df['car_prices_in_rupee'] = df['car_prices_in_rupee'].apply(convert_price)\n",
    "print(df.head())\n",
    "        "
   ]
  },
  {
   "cell_type": "code",
   "execution_count": 313,
   "metadata": {},
   "outputs": [
    {
     "name": "stdout",
     "output_type": "stream",
     "text": [
      "                                 car_name  car_prices_in_rupee  kms_driven  \\\n",
      "0  Jeep Compass 2.0 Longitude Option BSIV            1003000.0  86,226 kms   \n",
      "1            Renault Duster RXZ Turbo CVT            1283000.0  13,248 kms   \n",
      "2                      Toyota Camry 2.5 G            1640000.0  60,343 kms   \n",
      "3                       Honda Jazz VX CVT             777000.0  26,696 kms   \n",
      "4        Volkswagen Polo 1.2 MPI Highline             515000.0  69,414 kms   \n",
      "\n",
      "  fuel_type transmission  ownership  manufacture  engine    Seats  \n",
      "0    Diesel       Manual  1st Owner         2017  1956.0  5 Seats  \n",
      "1    Petrol    Automatic  1st Owner         2021  1330.0  5 Seats  \n",
      "2    Petrol    Automatic  1st Owner         2016  2494.0  5 Seats  \n",
      "3    Petrol    Automatic  1st Owner         2018  1199.0  5 Seats  \n",
      "4    Petrol       Manual  1st Owner         2016  1199.0  5 Seats  \n"
     ]
    }
   ],
   "source": [
    "def convert_engine(cc_str):\n",
    "    try:\n",
    "        num_value = float(cc_str.split(\" \")[0])\n",
    "        return num_value\n",
    "    except ValueError:\n",
    "        return None\n",
    "df['engine'] = df['engine'].apply(convert_engine)\n",
    "print(df.head())          "
   ]
  },
  {
   "cell_type": "code",
   "execution_count": 314,
   "metadata": {},
   "outputs": [
    {
     "name": "stdout",
     "output_type": "stream",
     "text": [
      "                                 car_name  car_prices_in_rupee  kms_driven  \\\n",
      "0  Jeep Compass 2.0 Longitude Option BSIV            1003000.0       86226   \n",
      "1            Renault Duster RXZ Turbo CVT            1283000.0       13248   \n",
      "2                      Toyota Camry 2.5 G            1640000.0       60343   \n",
      "3                       Honda Jazz VX CVT             777000.0       26696   \n",
      "4        Volkswagen Polo 1.2 MPI Highline             515000.0       69414   \n",
      "\n",
      "  fuel_type transmission  ownership  manufacture  engine    Seats  \n",
      "0    Diesel       Manual  1st Owner         2017  1956.0  5 Seats  \n",
      "1    Petrol    Automatic  1st Owner         2021  1330.0  5 Seats  \n",
      "2    Petrol    Automatic  1st Owner         2016  2494.0  5 Seats  \n",
      "3    Petrol    Automatic  1st Owner         2018  1199.0  5 Seats  \n",
      "4    Petrol       Manual  1st Owner         2016  1199.0  5 Seats  \n"
     ]
    }
   ],
   "source": [
    "def convert_kms(kms_str):\n",
    "    try:\n",
    "        # Remove commas and 'kms', then convert to integer\n",
    "        return int(kms_str.replace(',', '').replace(' kms', ''))\n",
    "    except ValueError:\n",
    "        return None\n",
    "\n",
    "# Apply the conversion function to the 'kms_driven' column\n",
    "df['kms_driven'] = df['kms_driven'].apply(convert_kms)\n",
    "\n",
    "# Display the modified DataFrame\n",
    "print(df.head())\n"
   ]
  },
  {
   "cell_type": "code",
   "execution_count": 315,
   "metadata": {},
   "outputs": [
    {
     "name": "stdout",
     "output_type": "stream",
     "text": [
      "                                 car_name  car_prices_in_rupee  kms_driven  \\\n",
      "0  Jeep Compass 2.0 Longitude Option BSIV            1003000.0       86226   \n",
      "1            Renault Duster RXZ Turbo CVT            1283000.0       13248   \n",
      "2                      Toyota Camry 2.5 G            1640000.0       60343   \n",
      "3                       Honda Jazz VX CVT             777000.0       26696   \n",
      "4        Volkswagen Polo 1.2 MPI Highline             515000.0       69414   \n",
      "\n",
      "  fuel_type transmission  ownership  manufacture  engine  Seats  \n",
      "0    Diesel       Manual  1st Owner         2017  1956.0      5  \n",
      "1    Petrol    Automatic  1st Owner         2021  1330.0      5  \n",
      "2    Petrol    Automatic  1st Owner         2016  2494.0      5  \n",
      "3    Petrol    Automatic  1st Owner         2018  1199.0      5  \n",
      "4    Petrol       Manual  1st Owner         2016  1199.0      5  \n"
     ]
    }
   ],
   "source": [
    "def convert_seats(seats_str):\n",
    "    try:\n",
    "        return int(seats_str.replace(' Seats', ''))\n",
    "    except ValueError:\n",
    "        return None\n",
    "df['Seats'] = df['Seats'].apply(convert_seats)\n",
    "print(df.head())"
   ]
  },
  {
   "cell_type": "code",
   "execution_count": 316,
   "metadata": {},
   "outputs": [
    {
     "name": "stdout",
     "output_type": "stream",
     "text": [
      "                                 car_name  car_prices_in_rupee  kms_driven  \\\n",
      "0  Jeep Compass 2.0 Longitude Option BSIV            1003000.0       86226   \n",
      "1            Renault Duster RXZ Turbo CVT            1283000.0       13248   \n",
      "2                      Toyota Camry 2.5 G            1640000.0       60343   \n",
      "3                       Honda Jazz VX CVT             777000.0       26696   \n",
      "4        Volkswagen Polo 1.2 MPI Highline             515000.0       69414   \n",
      "\n",
      "  fuel_type transmission  manufacture  engine  Seats  num_owners  \n",
      "0    Diesel       Manual         2017  1956.0      5           1  \n",
      "1    Petrol    Automatic         2021  1330.0      5           1  \n",
      "2    Petrol    Automatic         2016  2494.0      5           1  \n",
      "3    Petrol    Automatic         2018  1199.0      5           1  \n",
      "4    Petrol       Manual         2016  1199.0      5           1  \n"
     ]
    }
   ],
   "source": [
    "def extract_first_integer(ownership_str):\n",
    "    try:\n",
    "        return int(''.join(filter(str.isdigit, ownership_str)))\n",
    "    except ValueError:\n",
    "        return None\n",
    "\n",
    "def preprocess_data(df):\n",
    "    # Create a new column 'num_users' by applying the extract_first_integer function\n",
    "    df['num_owners'] = df['ownership'].apply(extract_first_integer)\n",
    "\n",
    "    # Drop the original 'ownership' column\n",
    "    df.drop(columns=['ownership'], inplace=True)\n",
    "\n",
    "    return df\n",
    "\n",
    "# Call the preprocess_data function\n",
    "df = preprocess_data(df)\n",
    "\n",
    "# Display the modified DataFrame\n",
    "#df = df.sort_values(by='num_owners', ascending=False)\n",
    "#print(df)\n",
    "\n",
    "print(df.head())"
   ]
  },
  {
   "cell_type": "code",
   "execution_count": 317,
   "metadata": {},
   "outputs": [],
   "source": [
    "df.to_csv('cleaned_data.csv', index=False)"
   ]
  }
 ],
 "metadata": {
  "kernelspec": {
   "display_name": "Python 3",
   "language": "python",
   "name": "python3"
  },
  "language_info": {
   "codemirror_mode": {
    "name": "ipython",
    "version": 3
   },
   "file_extension": ".py",
   "mimetype": "text/x-python",
   "name": "python",
   "nbconvert_exporter": "python",
   "pygments_lexer": "ipython3",
   "version": "3.12.0"
  }
 },
 "nbformat": 4,
 "nbformat_minor": 2
}
